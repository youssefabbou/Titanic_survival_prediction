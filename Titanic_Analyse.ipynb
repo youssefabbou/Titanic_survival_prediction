{
 "cells": [
  {
   "cell_type": "code",
   "execution_count": 2,
   "id": "26f87999-cc89-4af6-b2d8-c798d95acc43",
   "metadata": {},
   "outputs": [],
   "source": [
    "# Importiere wichtige Bibliotheken\n",
    "import pandas as pd  # Pandas wird verwendet, um Datenstrukturen wie DataFrames zu erstellen und zu manipulieren.\n",
    "import numpy as np  # NumPy wird für mathematische Operationen und das Arbeiten mit Arrays verwendet.\n",
    "import seaborn as sns  # Seaborn ist eine Bibliothek, die auf Matplotlib aufbaut und uns dabei hilft, ansprechende statistische Visualisierungen zu erstellen.\n",
    "import matplotlib.pyplot as plt  # Matplotlib wird verwendet, um einfache und komplexe Diagramme und Plots zu erstellen."
   ]
  },
  {
   "cell_type": "code",
   "execution_count": 3,
   "id": "5ca67146-1a08-444e-98d3-6de7c433797b",
   "metadata": {},
   "outputs": [],
   "source": [
    "file_path = 'Titanic.csv'"
   ]
  },
  {
   "cell_type": "code",
   "execution_count": 4,
   "id": "345dde99-0cc5-4aa5-a99a-4a33b42451b9",
   "metadata": {},
   "outputs": [],
   "source": [
    "# Lade den Titanic-Datensat\n",
    "df = pd.read_csv('Titanic.csv', sep=';')  # Lies die CSV-Datei 'Titanic.csv' ein und speichere sie in einem DataFrame."
   ]
  },
  {
   "cell_type": "code",
   "execution_count": 5,
   "id": "6cf31909-a9ad-4141-b263-7af9e3d43cd2",
   "metadata": {},
   "outputs": [
    {
     "data": {
      "text/html": [
       "<div>\n",
       "<style scoped>\n",
       "    .dataframe tbody tr th:only-of-type {\n",
       "        vertical-align: middle;\n",
       "    }\n",
       "\n",
       "    .dataframe tbody tr th {\n",
       "        vertical-align: top;\n",
       "    }\n",
       "\n",
       "    .dataframe thead th {\n",
       "        text-align: right;\n",
       "    }\n",
       "</style>\n",
       "<table border=\"1\" class=\"dataframe\">\n",
       "  <thead>\n",
       "    <tr style=\"text-align: right;\">\n",
       "      <th></th>\n",
       "      <th>pclass</th>\n",
       "      <th>survived</th>\n",
       "      <th>name</th>\n",
       "      <th>sex</th>\n",
       "      <th>age</th>\n",
       "      <th>sibsp</th>\n",
       "      <th>parch</th>\n",
       "      <th>ticket</th>\n",
       "      <th>fare</th>\n",
       "      <th>cabin</th>\n",
       "      <th>embarked</th>\n",
       "      <th>boat</th>\n",
       "      <th>body</th>\n",
       "      <th>home.dest</th>\n",
       "    </tr>\n",
       "  </thead>\n",
       "  <tbody>\n",
       "    <tr>\n",
       "      <th>0</th>\n",
       "      <td>1.0</td>\n",
       "      <td>1.0</td>\n",
       "      <td>Allen, Miss. Elisabeth Walton</td>\n",
       "      <td>female</td>\n",
       "      <td>29</td>\n",
       "      <td>0.0</td>\n",
       "      <td>0.0</td>\n",
       "      <td>24160</td>\n",
       "      <td>211,3375</td>\n",
       "      <td>B5</td>\n",
       "      <td>S</td>\n",
       "      <td>2</td>\n",
       "      <td>NaN</td>\n",
       "      <td>St Louis, MO</td>\n",
       "    </tr>\n",
       "    <tr>\n",
       "      <th>1</th>\n",
       "      <td>1.0</td>\n",
       "      <td>1.0</td>\n",
       "      <td>Allison, Master. Hudson Trevor</td>\n",
       "      <td>male</td>\n",
       "      <td>0,9167</td>\n",
       "      <td>1.0</td>\n",
       "      <td>2.0</td>\n",
       "      <td>113781</td>\n",
       "      <td>151,5500</td>\n",
       "      <td>C22 C26</td>\n",
       "      <td>S</td>\n",
       "      <td>11</td>\n",
       "      <td>NaN</td>\n",
       "      <td>Montreal, PQ / Chesterville, ON</td>\n",
       "    </tr>\n",
       "    <tr>\n",
       "      <th>2</th>\n",
       "      <td>1.0</td>\n",
       "      <td>0.0</td>\n",
       "      <td>Allison, Miss. Helen Loraine</td>\n",
       "      <td>female</td>\n",
       "      <td>2</td>\n",
       "      <td>1.0</td>\n",
       "      <td>2.0</td>\n",
       "      <td>113781</td>\n",
       "      <td>151,5500</td>\n",
       "      <td>C22 C26</td>\n",
       "      <td>S</td>\n",
       "      <td>NaN</td>\n",
       "      <td>NaN</td>\n",
       "      <td>Montreal, PQ / Chesterville, ON</td>\n",
       "    </tr>\n",
       "    <tr>\n",
       "      <th>3</th>\n",
       "      <td>1.0</td>\n",
       "      <td>0.0</td>\n",
       "      <td>Allison, Mr. Hudson Joshua Creighton</td>\n",
       "      <td>male</td>\n",
       "      <td>30</td>\n",
       "      <td>1.0</td>\n",
       "      <td>2.0</td>\n",
       "      <td>113781</td>\n",
       "      <td>151,5500</td>\n",
       "      <td>C22 C26</td>\n",
       "      <td>S</td>\n",
       "      <td>NaN</td>\n",
       "      <td>135.0</td>\n",
       "      <td>Montreal, PQ / Chesterville, ON</td>\n",
       "    </tr>\n",
       "    <tr>\n",
       "      <th>4</th>\n",
       "      <td>1.0</td>\n",
       "      <td>0.0</td>\n",
       "      <td>Allison, Mrs. Hudson J C (Bessie Waldo Daniels)</td>\n",
       "      <td>female</td>\n",
       "      <td>25</td>\n",
       "      <td>1.0</td>\n",
       "      <td>2.0</td>\n",
       "      <td>113781</td>\n",
       "      <td>151,5500</td>\n",
       "      <td>C22 C26</td>\n",
       "      <td>S</td>\n",
       "      <td>NaN</td>\n",
       "      <td>NaN</td>\n",
       "      <td>Montreal, PQ / Chesterville, ON</td>\n",
       "    </tr>\n",
       "  </tbody>\n",
       "</table>\n",
       "</div>"
      ],
      "text/plain": [
       "   pclass  survived                                             name     sex  \\\n",
       "0     1.0       1.0                    Allen, Miss. Elisabeth Walton  female   \n",
       "1     1.0       1.0                   Allison, Master. Hudson Trevor    male   \n",
       "2     1.0       0.0                     Allison, Miss. Helen Loraine  female   \n",
       "3     1.0       0.0             Allison, Mr. Hudson Joshua Creighton    male   \n",
       "4     1.0       0.0  Allison, Mrs. Hudson J C (Bessie Waldo Daniels)  female   \n",
       "\n",
       "      age  sibsp  parch  ticket      fare    cabin embarked boat   body  \\\n",
       "0      29    0.0    0.0   24160  211,3375       B5        S    2    NaN   \n",
       "1  0,9167    1.0    2.0  113781  151,5500  C22 C26        S   11    NaN   \n",
       "2       2    1.0    2.0  113781  151,5500  C22 C26        S  NaN    NaN   \n",
       "3      30    1.0    2.0  113781  151,5500  C22 C26        S  NaN  135.0   \n",
       "4      25    1.0    2.0  113781  151,5500  C22 C26        S  NaN    NaN   \n",
       "\n",
       "                         home.dest  \n",
       "0                     St Louis, MO  \n",
       "1  Montreal, PQ / Chesterville, ON  \n",
       "2  Montreal, PQ / Chesterville, ON  \n",
       "3  Montreal, PQ / Chesterville, ON  \n",
       "4  Montreal, PQ / Chesterville, ON  "
      ]
     },
     "execution_count": 5,
     "metadata": {},
     "output_type": "execute_result"
    }
   ],
   "source": [
    "# Zeige die ersten 5 Zeilen des Datensatzes an\n",
    "df.head()  # Gibt die ersten 5 Zeilen des Titanic-Datensatzes zurück, um einen schnellen Überblick über die Struktur und den Inhalt der Daten zu erhalten.\n"
   ]
  },
  {
   "cell_type": "code",
   "execution_count": 6,
   "id": "81317fa0-62b8-41ee-8054-6435042c9f4f",
   "metadata": {},
   "outputs": [
    {
     "name": "stdout",
     "output_type": "stream",
     "text": [
      "<class 'pandas.core.frame.DataFrame'>\n",
      "RangeIndex: 1310 entries, 0 to 1309\n",
      "Data columns (total 14 columns):\n",
      " #   Column     Non-Null Count  Dtype  \n",
      "---  ------     --------------  -----  \n",
      " 0   pclass     1309 non-null   float64\n",
      " 1   survived   1309 non-null   float64\n",
      " 2   name       1309 non-null   object \n",
      " 3   sex        1309 non-null   object \n",
      " 4   age        1046 non-null   object \n",
      " 5   sibsp      1309 non-null   float64\n",
      " 6   parch      1309 non-null   float64\n",
      " 7   ticket     1309 non-null   object \n",
      " 8   fare       1308 non-null   object \n",
      " 9   cabin      295 non-null    object \n",
      " 10  embarked   1307 non-null   object \n",
      " 11  boat       486 non-null    object \n",
      " 12  body       121 non-null    float64\n",
      " 13  home.dest  745 non-null    object \n",
      "dtypes: float64(5), object(9)\n",
      "memory usage: 143.4+ KB\n"
     ]
    }
   ],
   "source": [
    "# Überblick über den Datentyp und die Struktur des Titanic-Datensatzes\n",
    "df.info()  # Gibt eine Übersicht über die Spalten, ihre Datentypen und die Anzahl der Nicht-Null-Werte in jeder Spalte zurück.\n"
   ]
  },
  {
   "cell_type": "code",
   "execution_count": 7,
   "id": "09d8cbaf-5a2a-4f38-a0bd-3246ccf50970",
   "metadata": {},
   "outputs": [
    {
     "data": {
      "text/html": [
       "<div>\n",
       "<style scoped>\n",
       "    .dataframe tbody tr th:only-of-type {\n",
       "        vertical-align: middle;\n",
       "    }\n",
       "\n",
       "    .dataframe tbody tr th {\n",
       "        vertical-align: top;\n",
       "    }\n",
       "\n",
       "    .dataframe thead th {\n",
       "        text-align: right;\n",
       "    }\n",
       "</style>\n",
       "<table border=\"1\" class=\"dataframe\">\n",
       "  <thead>\n",
       "    <tr style=\"text-align: right;\">\n",
       "      <th></th>\n",
       "      <th>pclass</th>\n",
       "      <th>survived</th>\n",
       "      <th>sibsp</th>\n",
       "      <th>parch</th>\n",
       "      <th>body</th>\n",
       "    </tr>\n",
       "  </thead>\n",
       "  <tbody>\n",
       "    <tr>\n",
       "      <th>count</th>\n",
       "      <td>1309.000000</td>\n",
       "      <td>1309.000000</td>\n",
       "      <td>1309.000000</td>\n",
       "      <td>1309.000000</td>\n",
       "      <td>121.000000</td>\n",
       "    </tr>\n",
       "    <tr>\n",
       "      <th>mean</th>\n",
       "      <td>2.294882</td>\n",
       "      <td>0.381971</td>\n",
       "      <td>0.498854</td>\n",
       "      <td>0.385027</td>\n",
       "      <td>160.809917</td>\n",
       "    </tr>\n",
       "    <tr>\n",
       "      <th>std</th>\n",
       "      <td>0.837836</td>\n",
       "      <td>0.486055</td>\n",
       "      <td>1.041658</td>\n",
       "      <td>0.865560</td>\n",
       "      <td>97.696922</td>\n",
       "    </tr>\n",
       "    <tr>\n",
       "      <th>min</th>\n",
       "      <td>1.000000</td>\n",
       "      <td>0.000000</td>\n",
       "      <td>0.000000</td>\n",
       "      <td>0.000000</td>\n",
       "      <td>1.000000</td>\n",
       "    </tr>\n",
       "    <tr>\n",
       "      <th>25%</th>\n",
       "      <td>2.000000</td>\n",
       "      <td>0.000000</td>\n",
       "      <td>0.000000</td>\n",
       "      <td>0.000000</td>\n",
       "      <td>72.000000</td>\n",
       "    </tr>\n",
       "    <tr>\n",
       "      <th>50%</th>\n",
       "      <td>3.000000</td>\n",
       "      <td>0.000000</td>\n",
       "      <td>0.000000</td>\n",
       "      <td>0.000000</td>\n",
       "      <td>155.000000</td>\n",
       "    </tr>\n",
       "    <tr>\n",
       "      <th>75%</th>\n",
       "      <td>3.000000</td>\n",
       "      <td>1.000000</td>\n",
       "      <td>1.000000</td>\n",
       "      <td>0.000000</td>\n",
       "      <td>256.000000</td>\n",
       "    </tr>\n",
       "    <tr>\n",
       "      <th>max</th>\n",
       "      <td>3.000000</td>\n",
       "      <td>1.000000</td>\n",
       "      <td>8.000000</td>\n",
       "      <td>9.000000</td>\n",
       "      <td>328.000000</td>\n",
       "    </tr>\n",
       "  </tbody>\n",
       "</table>\n",
       "</div>"
      ],
      "text/plain": [
       "            pclass     survived        sibsp        parch        body\n",
       "count  1309.000000  1309.000000  1309.000000  1309.000000  121.000000\n",
       "mean      2.294882     0.381971     0.498854     0.385027  160.809917\n",
       "std       0.837836     0.486055     1.041658     0.865560   97.696922\n",
       "min       1.000000     0.000000     0.000000     0.000000    1.000000\n",
       "25%       2.000000     0.000000     0.000000     0.000000   72.000000\n",
       "50%       3.000000     0.000000     0.000000     0.000000  155.000000\n",
       "75%       3.000000     1.000000     1.000000     0.000000  256.000000\n",
       "max       3.000000     1.000000     8.000000     9.000000  328.000000"
      ]
     },
     "execution_count": 7,
     "metadata": {},
     "output_type": "execute_result"
    }
   ],
   "source": [
    "# Statistische Zusammenfassung der numerischen Daten im Datensatz\n",
    "df.describe()  # Liefert eine Übersicht über statistische Kennzahlen (wie Mittelwert, Standardabweichung, Minimum, Maximum) für die numerischen Spalten des Titanic-Datensatzes."
   ]
  },
  {
   "cell_type": "code",
   "execution_count": 8,
   "id": "d7323b15-fe05-4ea3-be2d-82409512b3a7",
   "metadata": {},
   "outputs": [
    {
     "data": {
      "text/plain": [
       "pclass          1\n",
       "survived        1\n",
       "name            1\n",
       "sex             1\n",
       "age           264\n",
       "sibsp           1\n",
       "parch           1\n",
       "ticket          1\n",
       "fare            2\n",
       "cabin        1015\n",
       "embarked        3\n",
       "boat          824\n",
       "body         1189\n",
       "home.dest     565\n",
       "dtype: int64"
      ]
     },
     "execution_count": 8,
     "metadata": {},
     "output_type": "execute_result"
    }
   ],
   "source": [
    "# Prüfe, welche Spalten fehlende Werte enthalten und wie viele\n",
    "df.isnull().sum()  # Das ist wichtig: Ich überprüfe, wie viele fehlende Werte es in jeder Spalte gibt. Dies hilft mir, den nächsten Schritt zu planen, ob ich sie auffüllen oder anders damit umgehen muss."
   ]
  },
  {
   "cell_type": "code",
   "execution_count": 9,
   "id": "3022cb35-717e-4fa9-a784-b7e09d3f9d11",
   "metadata": {},
   "outputs": [],
   "source": [
    "# Entferne Zeilen mit fehlenden Werten in spezifischen Spalten\n",
    "df.dropna(subset=['pclass', 'survived', 'name', 'sex', 'sibsp', 'parch', 'ticket','fare','embarked'], inplace=True)  \n",
    "# Ich lösche alle Zeilen, die in diesen wichtigen Spalten fehlende Werte haben. \n",
    "# Diese Spalten sind entscheidend für die Analyse und das Modell, daher will ich nur vollständige Daten behalten.\n",
    "# 'inplace=True' sorgt dafür, dass die Änderungen direkt am DataFrame vorgenommen werden.\n",
    "# Da es wenig Werte sind pro Spalte (<1%) ändert es nichts am Endergebnis"
   ]
  },
  {
   "cell_type": "code",
   "execution_count": 10,
   "id": "b8401c85-49ff-45f6-bd58-9c4ab788152b",
   "metadata": {},
   "outputs": [
    {
     "data": {
      "text/plain": [
       "pclass          0\n",
       "survived        0\n",
       "name            0\n",
       "sex             0\n",
       "age           263\n",
       "sibsp           0\n",
       "parch           0\n",
       "ticket          0\n",
       "fare            0\n",
       "cabin        1013\n",
       "embarked        0\n",
       "boat          822\n",
       "body         1186\n",
       "home.dest     562\n",
       "dtype: int64"
      ]
     },
     "execution_count": 10,
     "metadata": {},
     "output_type": "execute_result"
    }
   ],
   "source": [
    "df.isnull().sum() #Überprüfung der vorgenommenen Operation"
   ]
  },
  {
   "cell_type": "code",
   "execution_count": 11,
   "id": "17c5dd17-d165-4728-8bd1-673f0fc53199",
   "metadata": {},
   "outputs": [],
   "source": [
    "# Extrahiere das Deck aus der 'cabin'-Spalte und fülle fehlende Werte mit 'Unknown'\n",
    "df['deck'] = df['cabin'].apply(lambda x: x[0] if pd.notnull(x) else 'Unknown')  \n",
    "# Ich benutze 'Unknown' anstelle des Löschens von Zeilen, da ich wichtige Informationen in anderen Spalten (wie 'survived', 'sex', etc.) behalten will.\n",
    "# Viele Zeilen haben keine Kabineninformationen, aber das Löschen würde unnötig viele Daten entfernen.\n",
    "# 'Unknown' ermöglicht es dem Modell, fehlende Kabineninformationen als separate Kategorie zu behandeln, ohne Datenverlust zu riskieren."
   ]
  },
  {
   "cell_type": "code",
   "execution_count": 12,
   "id": "bf333e10-7756-4e07-bf4d-86edefc46d34",
   "metadata": {},
   "outputs": [],
   "source": [
    "df['cabin'] = df['cabin'].fillna('Unknown')"
   ]
  },
  {
   "cell_type": "code",
   "execution_count": 13,
   "id": "3ce283b7-554a-4de3-9f31-9bf6a9b9035a",
   "metadata": {},
   "outputs": [
    {
     "data": {
      "text/plain": [
       "pclass          0\n",
       "survived        0\n",
       "name            0\n",
       "sex             0\n",
       "age           263\n",
       "sibsp           0\n",
       "parch           0\n",
       "ticket          0\n",
       "fare            0\n",
       "cabin           0\n",
       "embarked        0\n",
       "boat          822\n",
       "body         1186\n",
       "home.dest     562\n",
       "deck            0\n",
       "dtype: int64"
      ]
     },
     "execution_count": 13,
     "metadata": {},
     "output_type": "execute_result"
    }
   ],
   "source": [
    "df.isnull().sum() # Überprüfung der vorgenommenen Operation"
   ]
  },
  {
   "cell_type": "code",
   "execution_count": 14,
   "id": "3fa69880-0306-47c7-99d5-85fdeaed77b0",
   "metadata": {},
   "outputs": [],
   "source": [
    "df['boat'] = df['boat'].fillna('No Boat') #Alle fehlenden Werte in Spalte Boat sollen durch 'No Boat' ersetzt werden "
   ]
  },
  {
   "cell_type": "code",
   "execution_count": 15,
   "id": "61a4b4fc-361e-4ad3-8494-283b25121955",
   "metadata": {},
   "outputs": [
    {
     "data": {
      "text/plain": [
       "pclass          0\n",
       "survived        0\n",
       "name            0\n",
       "sex             0\n",
       "age           263\n",
       "sibsp           0\n",
       "parch           0\n",
       "ticket          0\n",
       "fare            0\n",
       "cabin           0\n",
       "embarked        0\n",
       "boat            0\n",
       "body         1186\n",
       "home.dest     562\n",
       "deck            0\n",
       "dtype: int64"
      ]
     },
     "execution_count": 15,
     "metadata": {},
     "output_type": "execute_result"
    }
   ],
   "source": [
    "df.isnull().sum() #Überprüfung"
   ]
  },
  {
   "cell_type": "code",
   "execution_count": 16,
   "id": "440ea9b5-06ec-4879-a919-0cf657f8feed",
   "metadata": {},
   "outputs": [],
   "source": [
    "# Entferne die 'body'-Spalte aus dem DataFrame\n",
    "df.drop(columns=['body'], inplace=True)  \n",
    "# Ich entferne die 'body'-Spalte, weil sie entweder zu viele fehlende Werte hat und nicht relevant für meine Analyse bzw. das Modell ist.\n",
    "# 'inplace=True' sorgt dafür, dass die Änderung direkt im ursprünglichen DataFrame vorgenommen wird."
   ]
  },
  {
   "cell_type": "code",
   "execution_count": 17,
   "id": "a9665a08-abf0-44de-b4a1-e6ab34449a5f",
   "metadata": {},
   "outputs": [
    {
     "data": {
      "text/plain": [
       "pclass         0\n",
       "survived       0\n",
       "name           0\n",
       "sex            0\n",
       "age          263\n",
       "sibsp          0\n",
       "parch          0\n",
       "ticket         0\n",
       "fare           0\n",
       "cabin          0\n",
       "embarked       0\n",
       "boat           0\n",
       "home.dest    562\n",
       "deck           0\n",
       "dtype: int64"
      ]
     },
     "execution_count": 17,
     "metadata": {},
     "output_type": "execute_result"
    }
   ],
   "source": [
    "df.isnull().sum() #Überprüfung"
   ]
  },
  {
   "cell_type": "code",
   "execution_count": 18,
   "id": "35c83ae5-06d6-4d60-8bea-6cf33d5a197b",
   "metadata": {},
   "outputs": [],
   "source": [
    "# Fülle fehlende Werte in der 'home.dest'-Spalte mit 'Unknown' auf\n",
    "df['home.dest'] = df['home.dest'].fillna('Unknown')  \n",
    "# Ich fülle die fehlenden Werte in der 'home.dest'-Spalte mit 'Unknown', damit ich keine wichtigen Daten verliere. \n",
    "# So kann ich später flexibel entscheiden, ob diese Spalte wichtig ist oder nicht.\n",
    "\n",
    "# Entferne die 'home.dest'-Spalte aus dem DataFrame\n",
    "df.drop(columns=['home.dest'], inplace=True)  \n",
    "# Nachdem ich die fehlenden Werte gefüllt habe, entscheide ich mich, die 'home.dest'-Spalte zu entfernen, \n",
    "# da sie nicht relevant für meine Analyse oder das Modell ist. \n",
    "# 'inplace=True' sorgt dafür, dass die Änderung direkt im ursprünglichen DataFrame stattfindet."
   ]
  },
  {
   "cell_type": "code",
   "execution_count": 19,
   "id": "5ed781ad-0d72-412e-8231-19365610c788",
   "metadata": {},
   "outputs": [
    {
     "data": {
      "text/plain": [
       "pclass        0\n",
       "survived      0\n",
       "name          0\n",
       "sex           0\n",
       "age         263\n",
       "sibsp         0\n",
       "parch         0\n",
       "ticket        0\n",
       "fare          0\n",
       "cabin         0\n",
       "embarked      0\n",
       "boat          0\n",
       "deck          0\n",
       "dtype: int64"
      ]
     },
     "execution_count": 19,
     "metadata": {},
     "output_type": "execute_result"
    }
   ],
   "source": [
    "df.isnull().sum() #Überprüfung"
   ]
  },
  {
   "cell_type": "code",
   "execution_count": 20,
   "id": "701b5cc6-06c9-40e1-a99b-c3eeb6a76868",
   "metadata": {},
   "outputs": [
    {
     "name": "stdout",
     "output_type": "stream",
     "text": [
      "['29' '0,9167' '2' '30' '25' '48' '63' '39' '53' '71' '47' '18' '24' '26'\n",
      " '80' nan '50' '32' '36' '37' '42' '19' '35' '28' '45' '40' '58' '22' '41'\n",
      " '44' '59' '60' '33' '17' '11' '14' '49' '76' '46' '27' '64' '55' '70'\n",
      " '38' '51' '31' '4' '54' '23' '43' '52' '16' '32,5' '21' '15' '65' '28,5'\n",
      " '45,5' '56' '13' '61' '34' '6' '57' '62' '67' '1' '12' '20' '0,8333' '8'\n",
      " '0,6667' '7' '3' '36,5' '18,5' '5' '66' '9' '0,75' '70,5' '22,5' '0,3333'\n",
      " '0,1667' '40,5' '10' '23,5' '34,5' '20,5' '30,5' '55,5' '38,5' '14,5'\n",
      " '24,5' '74' '0,4167' '11,5' '26,5']\n"
     ]
    }
   ],
   "source": [
    "print(df['age'].unique()) #Überprüfung der Schreibweise in Spalte 'Age'"
   ]
  },
  {
   "cell_type": "code",
   "execution_count": 21,
   "id": "1533bcd2-95b3-41ad-bd1c-b5489d112d78",
   "metadata": {},
   "outputs": [],
   "source": [
    "# Konvertiere die 'age'-Spalte in den Datentyp 'string', um Formatierungsproblemen zu entgehen\n",
    "df['age'] = df['age'].astype(str)  \n",
    "# Ich wandle die 'age'-Spalte von einem numerischen Wert in einen String um, um der Formatierung von Zahlen aus dem Weg zu gehen. \n",
    "# Dadurch muss ich mich nicht mit Dezimalstellen oder fehlenden Werten bei der Altersangabe auseinandersetzen."
   ]
  },
  {
   "cell_type": "code",
   "execution_count": 22,
   "id": "13d9c5b2-f45c-431e-93c9-68ffb81b4f7d",
   "metadata": {},
   "outputs": [],
   "source": [
    "# Ersetze Kommas durch Punkte in der 'age'-Spalte\n",
    "df['age'] = df['age'].str.replace(',', '.')  \n",
    "# Da ich das Alter als String konvertiert habe, ersetze ich jetzt Kommas durch Punkte in der 'age'-Spalte.\n",
    "# Das ist wichtig, um mögliche Formatierungsprobleme zu beheben, insbesondere wenn die Altersangaben mit Komma statt Punkt vorliegen.\n",
    "# Dadurch stelle ich sicher, dass die Alterswerte korrekt dargestellt werden, falls ich sie später für Berechnungen oder Vergleiche wieder in Zahlen umwandle."
   ]
  },
  {
   "cell_type": "code",
   "execution_count": 23,
   "id": "ff2979fb-15b4-4bb0-9202-d34eac28f387",
   "metadata": {},
   "outputs": [],
   "source": [
    "# Konvertiere die 'age'-Spalte zurück zu numerischen Werten und setze ungültige Einträge auf NaN\n",
    "df['age'] = pd.to_numeric(df['age'], errors='coerce')  \n",
    "# Ich wandle die 'age'-Spalte wieder in numerische Werte um. \n",
    "# Mit 'errors=\"coerce\"' sorge ich dafür, dass alle nicht-konvertierbaren Werte (z. B. leere oder ungültige Strings) in NaN umgewandelt werden.\n",
    "# Das ist hilfreich, um sicherzustellen, dass nur gültige numerische Werte in der Spalte vorhanden sind und ich mit diesen weiter rechnen kann."
   ]
  },
  {
   "cell_type": "code",
   "execution_count": 24,
   "id": "d2587f8f-690b-4a82-9a3c-754eee9b77ec",
   "metadata": {},
   "outputs": [],
   "source": [
    "# Fülle fehlende Werte in der 'age'-Spalte mit dem Medianwert auf\n",
    "df['age'] = df['age'].fillna(df['age'].median())  \n",
    "# Ich ersetze die fehlenden Alterswerte (NaN) durch den Median des Alters. \n",
    "# Der Median ist eine gute Wahl, weil er weniger anfällig für Ausreißer ist als der Durchschnitt.\n",
    "# Dadurch stelle ich sicher, dass alle Einträge in der 'age'-Spalte gültige numerische Werte haben und mein Modell nicht durch fehlende Werte beeinträchtigt wird."
   ]
  },
  {
   "cell_type": "code",
   "execution_count": 25,
   "id": "2f27f9a6-ba83-473c-970e-563b3a23b4c4",
   "metadata": {},
   "outputs": [
    {
     "data": {
      "text/plain": [
       "pclass      0\n",
       "survived    0\n",
       "name        0\n",
       "sex         0\n",
       "age         0\n",
       "sibsp       0\n",
       "parch       0\n",
       "ticket      0\n",
       "fare        0\n",
       "cabin       0\n",
       "embarked    0\n",
       "boat        0\n",
       "deck        0\n",
       "dtype: int64"
      ]
     },
     "execution_count": 25,
     "metadata": {},
     "output_type": "execute_result"
    }
   ],
   "source": [
    "df.isnull().sum()"
   ]
  },
  {
   "cell_type": "code",
   "execution_count": 26,
   "id": "2e3eb68c-7b3e-40b8-a1e6-d6fd1c2547ce",
   "metadata": {},
   "outputs": [],
   "source": [
    "df['age'] = pd.to_numeric(df['age'], errors='coerce')\n",
    "df['pclass'] = df['pclass'].astype('category')"
   ]
  },
  {
   "cell_type": "code",
   "execution_count": 27,
   "id": "7c28adbc-3876-4d8f-a5a6-67673f46e44c",
   "metadata": {},
   "outputs": [
    {
     "name": "stdout",
     "output_type": "stream",
     "text": [
      "pclass      category\n",
      "survived     float64\n",
      "name          object\n",
      "sex           object\n",
      "age          float64\n",
      "sibsp        float64\n",
      "parch        float64\n",
      "ticket        object\n",
      "fare          object\n",
      "cabin         object\n",
      "embarked      object\n",
      "boat          object\n",
      "deck          object\n",
      "dtype: object\n"
     ]
    }
   ],
   "source": [
    "print(df.dtypes)"
   ]
  },
  {
   "cell_type": "code",
   "execution_count": 28,
   "id": "712ffcea-ab57-4a25-8030-731124bc75c0",
   "metadata": {},
   "outputs": [
    {
     "data": {
      "text/plain": [
       "<Axes: ylabel='age'>"
      ]
     },
     "execution_count": 28,
     "metadata": {},
     "output_type": "execute_result"
    },
    {
     "data": {
      "image/png": "[encoded data removed]",
      "text/plain": [
       "<Figure size 640x480 with 1 Axes>"
      ]
     },
     "metadata": {},
     "output_type": "display_data"
    }
   ],
   "source": [
    "sns.boxplot(df['age'])\n"
   ]
  },
  {
   "cell_type": "code",
   "execution_count": 29,
   "id": "77f9b83e-80ad-4c3d-879f-5521a2c62fdf",
   "metadata": {},
   "outputs": [],
   "source": [
    "df = pd.get_dummies(df, columns=['sex', 'embarked'], drop_first=True)\n"
   ]
  },
  {
   "cell_type": "code",
   "execution_count": 30,
   "id": "b2334bef-95b3-4ef8-835f-2f02f008092f",
   "metadata": {},
   "outputs": [
    {
     "name": "stdout",
     "output_type": "stream",
     "text": [
      "pclass        category\n",
      "survived       float64\n",
      "name            object\n",
      "age            float64\n",
      "sibsp          float64\n",
      "parch          float64\n",
      "ticket          object\n",
      "fare            object\n",
      "cabin           object\n",
      "boat            object\n",
      "deck            object\n",
      "sex_male          bool\n",
      "embarked_Q        bool\n",
      "embarked_S        bool\n",
      "dtype: object\n"
     ]
    }
   ],
   "source": [
    "print(df.dtypes)"
   ]
  },
  {
   "cell_type": "code",
   "execution_count": 31,
   "id": "de4f8a07-0f9a-4b3e-bf6e-e7e843f7ad2c",
   "metadata": {},
   "outputs": [],
   "source": [
    "# Kommas in Punkten umwandeln\n",
    "df['fare'] = df['fare'].str.replace(',', '.')\n",
    "# In numerischen Typ konvertieren\n",
    "df['fare'] = pd.to_numeric(df['fare'], errors='coerce')\n"
   ]
  },
  {
   "cell_type": "code",
   "execution_count": 32,
   "id": "1f314b95-4ee7-4bc5-8dc9-e9d90fe96df2",
   "metadata": {},
   "outputs": [],
   "source": [
    "# Konvertiere die Spalten 'cabin', 'boat' und 'deck' in den Kategorie-Datentyp\n",
    "df['cabin'] = df['cabin'].astype('category')  \n",
    "df['boat'] = df['boat'].astype('category')  \n",
    "df['deck'] = df['deck'].astype('category')  \n",
    "# Ich wandle die Spalten 'cabin', 'boat' und 'deck' in den Datentyp 'category' um, da diese Werte diskrete Kategorien darstellen.\n",
    "# Dies spart Speicherplatz und verbessert die Verarbeitungsgeschwindigkeit, da kategorische Daten effizienter verarbeitet werden als Strings.\n",
    "# Außerdem hilft es, diese Spalten klar als Kategorien zu markieren, was für die Modellierung nützlich ist (z.B. für Algorithmen, die mit kategorialen Daten arbeiten).\n"
   ]
  },
  {
   "cell_type": "code",
   "execution_count": 33,
   "id": "aa58cc9a-b84d-4847-b399-41863f19e180",
   "metadata": {},
   "outputs": [
    {
     "name": "stdout",
     "output_type": "stream",
     "text": [
      "pclass        category\n",
      "survived       float64\n",
      "name            object\n",
      "age            float64\n",
      "sibsp          float64\n",
      "parch          float64\n",
      "ticket          object\n",
      "fare           float64\n",
      "cabin         category\n",
      "boat          category\n",
      "deck          category\n",
      "sex_male          bool\n",
      "embarked_Q        bool\n",
      "embarked_S        bool\n",
      "dtype: object\n"
     ]
    }
   ],
   "source": [
    "print(df.dtypes)\n"
   ]
  },
  {
   "cell_type": "code",
   "execution_count": 34,
   "id": "66fc08ac-c6af-4e7b-8723-7c930e1e1d57",
   "metadata": {},
   "outputs": [],
   "source": [
    "df.drop_duplicates(inplace=True) #Duplikaten löschen, wenn vorhanden"
   ]
  },
  {
   "cell_type": "code",
   "execution_count": 35,
   "id": "67a38148-564c-49ff-aafe-7021d8603973",
   "metadata": {},
   "outputs": [
    {
     "data": {
      "text/plain": [
       "pclass        0\n",
       "survived      0\n",
       "name          0\n",
       "age           0\n",
       "sibsp         0\n",
       "parch         0\n",
       "ticket        0\n",
       "fare          0\n",
       "cabin         0\n",
       "boat          0\n",
       "deck          0\n",
       "sex_male      0\n",
       "embarked_Q    0\n",
       "embarked_S    0\n",
       "dtype: int64"
      ]
     },
     "execution_count": 35,
     "metadata": {},
     "output_type": "execute_result"
    }
   ],
   "source": [
    "df.isnull().sum() #Überprüfung Nullwerte"
   ]
  },
  {
   "cell_type": "code",
   "execution_count": 36,
   "id": "4b106349-998f-41d9-931b-bfe8ccfa821e",
   "metadata": {},
   "outputs": [
    {
     "data": {
      "text/html": [
       "<div>\n",
       "<style scoped>\n",
       "    .dataframe tbody tr th:only-of-type {\n",
       "        vertical-align: middle;\n",
       "    }\n",
       "\n",
       "    .dataframe tbody tr th {\n",
       "        vertical-align: top;\n",
       "    }\n",
       "\n",
       "    .dataframe thead th {\n",
       "        text-align: right;\n",
       "    }\n",
       "</style>\n",
       "<table border=\"1\" class=\"dataframe\">\n",
       "  <thead>\n",
       "    <tr style=\"text-align: right;\">\n",
       "      <th></th>\n",
       "      <th>pclass</th>\n",
       "      <th>survived</th>\n",
       "      <th>name</th>\n",
       "      <th>age</th>\n",
       "      <th>sibsp</th>\n",
       "      <th>parch</th>\n",
       "      <th>ticket</th>\n",
       "      <th>fare</th>\n",
       "      <th>cabin</th>\n",
       "      <th>boat</th>\n",
       "      <th>deck</th>\n",
       "      <th>sex_male</th>\n",
       "      <th>embarked_Q</th>\n",
       "      <th>embarked_S</th>\n",
       "    </tr>\n",
       "  </thead>\n",
       "  <tbody>\n",
       "    <tr>\n",
       "      <th>0</th>\n",
       "      <td>1.0</td>\n",
       "      <td>1.0</td>\n",
       "      <td>Allen, Miss. Elisabeth Walton</td>\n",
       "      <td>29.0000</td>\n",
       "      <td>0.0</td>\n",
       "      <td>0.0</td>\n",
       "      <td>24160</td>\n",
       "      <td>211.3375</td>\n",
       "      <td>B5</td>\n",
       "      <td>2</td>\n",
       "      <td>B</td>\n",
       "      <td>False</td>\n",
       "      <td>False</td>\n",
       "      <td>True</td>\n",
       "    </tr>\n",
       "    <tr>\n",
       "      <th>1</th>\n",
       "      <td>1.0</td>\n",
       "      <td>1.0</td>\n",
       "      <td>Allison, Master. Hudson Trevor</td>\n",
       "      <td>0.9167</td>\n",
       "      <td>1.0</td>\n",
       "      <td>2.0</td>\n",
       "      <td>113781</td>\n",
       "      <td>151.5500</td>\n",
       "      <td>C22 C26</td>\n",
       "      <td>11</td>\n",
       "      <td>C</td>\n",
       "      <td>True</td>\n",
       "      <td>False</td>\n",
       "      <td>True</td>\n",
       "    </tr>\n",
       "    <tr>\n",
       "      <th>2</th>\n",
       "      <td>1.0</td>\n",
       "      <td>0.0</td>\n",
       "      <td>Allison, Miss. Helen Loraine</td>\n",
       "      <td>2.0000</td>\n",
       "      <td>1.0</td>\n",
       "      <td>2.0</td>\n",
       "      <td>113781</td>\n",
       "      <td>151.5500</td>\n",
       "      <td>C22 C26</td>\n",
       "      <td>No Boat</td>\n",
       "      <td>C</td>\n",
       "      <td>False</td>\n",
       "      <td>False</td>\n",
       "      <td>True</td>\n",
       "    </tr>\n",
       "    <tr>\n",
       "      <th>3</th>\n",
       "      <td>1.0</td>\n",
       "      <td>0.0</td>\n",
       "      <td>Allison, Mr. Hudson Joshua Creighton</td>\n",
       "      <td>30.0000</td>\n",
       "      <td>1.0</td>\n",
       "      <td>2.0</td>\n",
       "      <td>113781</td>\n",
       "      <td>151.5500</td>\n",
       "      <td>C22 C26</td>\n",
       "      <td>No Boat</td>\n",
       "      <td>C</td>\n",
       "      <td>True</td>\n",
       "      <td>False</td>\n",
       "      <td>True</td>\n",
       "    </tr>\n",
       "    <tr>\n",
       "      <th>4</th>\n",
       "      <td>1.0</td>\n",
       "      <td>0.0</td>\n",
       "      <td>Allison, Mrs. Hudson J C (Bessie Waldo Daniels)</td>\n",
       "      <td>25.0000</td>\n",
       "      <td>1.0</td>\n",
       "      <td>2.0</td>\n",
       "      <td>113781</td>\n",
       "      <td>151.5500</td>\n",
       "      <td>C22 C26</td>\n",
       "      <td>No Boat</td>\n",
       "      <td>C</td>\n",
       "      <td>False</td>\n",
       "      <td>False</td>\n",
       "      <td>True</td>\n",
       "    </tr>\n",
       "  </tbody>\n",
       "</table>\n",
       "</div>"
      ],
      "text/plain": [
       "  pclass  survived                                             name      age  \\\n",
       "0    1.0       1.0                    Allen, Miss. Elisabeth Walton  29.0000   \n",
       "1    1.0       1.0                   Allison, Master. Hudson Trevor   0.9167   \n",
       "2    1.0       0.0                     Allison, Miss. Helen Loraine   2.0000   \n",
       "3    1.0       0.0             Allison, Mr. Hudson Joshua Creighton  30.0000   \n",
       "4    1.0       0.0  Allison, Mrs. Hudson J C (Bessie Waldo Daniels)  25.0000   \n",
       "\n",
       "   sibsp  parch  ticket      fare    cabin     boat deck  sex_male  \\\n",
       "0    0.0    0.0   24160  211.3375       B5        2    B     False   \n",
       "1    1.0    2.0  113781  151.5500  C22 C26       11    C      True   \n",
       "2    1.0    2.0  113781  151.5500  C22 C26  No Boat    C     False   \n",
       "3    1.0    2.0  113781  151.5500  C22 C26  No Boat    C      True   \n",
       "4    1.0    2.0  113781  151.5500  C22 C26  No Boat    C     False   \n",
       "\n",
       "   embarked_Q  embarked_S  \n",
       "0       False        True  \n",
       "1       False        True  \n",
       "2       False        True  \n",
       "3       False        True  \n",
       "4       False        True  "
      ]
     },
     "execution_count": 36,
     "metadata": {},
     "output_type": "execute_result"
    }
   ],
   "source": [
    "df.head()"
   ]
  },
  {
   "cell_type": "code",
   "execution_count": 37,
   "id": "70a635ce-2fd4-446c-9202-5e0b3732c323",
   "metadata": {},
   "outputs": [],
   "source": [
    "# Speichere den bereinigten Titanic-Datensatz in einer neuen CSV-Datei\n",
    "df.to_csv('bereinigter_titanic_datensatz.csv', index=False)  \n",
    "# Ich speichere den bereinigten Datensatz als CSV-Datei ab, um meine Änderungen festzuhalten.\n",
    "# Mit 'index=False' stelle ich sicher, dass der DataFrame-Index nicht in die CSV-Datei geschrieben wird, \n",
    "# da der Index hier nicht relevant für die Datenanalyse ist."
   ]
  },
  {
   "cell_type": "code",
   "execution_count": 38,
   "id": "0218cace-1f27-41db-a7a7-bb9c8fbcdf5b",
   "metadata": {},
   "outputs": [
    {
     "data": {
      "text/plain": [
       "<Axes: xlabel='pclass', ylabel='count'>"
      ]
     },
     "execution_count": 38,
     "metadata": {},
     "output_type": "execute_result"
    },
    {
     "data": {
      "image/png": "[encoded data removed]",
      "text/plain": [
       "<Figure size 640x480 with 1 Axes>"
      ]
     },
     "metadata": {},
     "output_type": "display_data"
    }
   ],
   "source": [
    "sns.countplot(x='pclass', hue= 'survived', data=df)"
   ]
  },
  {
   "cell_type": "code",
   "execution_count": 39,
   "id": "b9a7a37b-4402-4849-bc0e-9b2700c32a28",
   "metadata": {},
   "outputs": [
    {
     "data": {
      "text/plain": [
       "<Axes: xlabel='age', ylabel='Count'>"
      ]
     },
     "execution_count": 39,
     "metadata": {},
     "output_type": "execute_result"
    },
    {
     "data": {
      "image/png": "[encoded data removed]",
      "text/plain": [
       "<Figure size 640x480 with 1 Axes>"
      ]
     },
     "metadata": {},
     "output_type": "display_data"
    }
   ],
   "source": [
    "sns.histplot(df['age'],kde= True)"
   ]
  },
  {
   "cell_type": "code",
   "execution_count": 40,
   "id": "34d0e83f-e6ad-4218-91fd-1bb1deccbd74",
   "metadata": {},
   "outputs": [],
   "source": [
    "df['family_size'] = df['sibsp'] + df['parch'] + 1"
   ]
  },
  {
   "cell_type": "code",
   "execution_count": 41,
   "id": "629d53e8-d7c8-4e92-8a4f-f5c172223cfa",
   "metadata": {},
   "outputs": [],
   "source": [
    "df['is_alone'] = (df['family_size'] == 1).astype(int)"
   ]
  },
  {
   "cell_type": "code",
   "execution_count": 42,
   "id": "4642c02b-62bd-4cb3-8467-a77b69c880ba",
   "metadata": {},
   "outputs": [
    {
     "data": {
      "image/png": "[encoded data removed]",
      "text/plain": [
       "<Figure size 640x480 with 1 Axes>"
      ]
     },
     "metadata": {},
     "output_type": "display_data"
    }
   ],
   "source": [
    "sns.countplot(x='survived', data=df)\n",
    "plt.title('Überlebensrate der Titanic-Passagiere')\n",
    "plt.show()\n"
   ]
  },
  {
   "cell_type": "code",
   "execution_count": 43,
   "id": "fd906f10-f360-4d2e-9d9d-6b3d106ce7ee",
   "metadata": {},
   "outputs": [
    {
     "data": {
      "image/png": "[encoded data removed]",
      "text/plain": [
       "<Figure size 640x480 with 1 Axes>"
      ]
     },
     "metadata": {},
     "output_type": "display_data"
    },
    {
     "data": {
      "image/png": "[encoded data removed]",
      "text/plain": [
       "<Figure size 640x480 with 1 Axes>"
      ]
     },
     "metadata": {},
     "output_type": "display_data"
    }
   ],
   "source": [
    "sns.histplot(df['age'], kde=True)\n",
    "plt.title('Altersverteilung der Passagiere')\n",
    "plt.show()\n",
    "\n",
    "sns.histplot(df['fare'], kde=True)\n",
    "plt.title('Verteilung der Fahrpreise')\n",
    "plt.show()"
   ]
  },
  {
   "cell_type": "code",
   "execution_count": null,
   "id": "c07d4f71-6fd2-4f63-a401-051421eb6c71",
   "metadata": {},
   "outputs": [],
   "source": []
  },
  {
   "cell_type": "code",
   "execution_count": 44,
   "id": "55b203cf-1f16-47f4-aaa4-ad080508742c",
   "metadata": {},
   "outputs": [
    {
     "data": {
      "image/png": "[encoded data removed]",
      "text/plain": [
       "<Figure size 640x480 with 1 Axes>"
      ]
     },
     "metadata": {},
     "output_type": "display_data"
    }
   ],
   "source": [
    "sns.countplot(x='sex_male', hue='survived', data=df)\n",
    "plt.title('Überlebenschancen nach Geschlecht (Male=1)')\n",
    "plt.show()"
   ]
  },
  {
   "cell_type": "code",
   "execution_count": 45,
   "id": "67e15bfc-a154-4853-b7e4-baf5d143bc05",
   "metadata": {},
   "outputs": [
    {
     "data": {
      "image/png": "[encoded data removed]",
      "text/plain": [
       "<Figure size 640x480 with 1 Axes>"
      ]
     },
     "metadata": {},
     "output_type": "display_data"
    }
   ],
   "source": [
    "df['log_fare'] = np.log1p(df['fare'])  # Logarithmische Skalierung von Fare\n",
    "\n",
    "# Boxplot mit logarithmisch skaliertem Fahrpreis\n",
    "sns.boxplot(x='survived', y='log_fare', data=df)\n",
    "plt.title('Logarithmischer Fahrpreis und Überlebenschancen')\n",
    "plt.show()"
   ]
  },
  {
   "cell_type": "code",
   "execution_count": 46,
   "id": "3607437a-8628-475c-a73a-5d1a1f8b1c87",
   "metadata": {},
   "outputs": [
    {
     "data": {
      "image/png": "[encoded data removed]",
      "text/plain": [
       "<Figure size 640x480 with 1 Axes>"
      ]
     },
     "metadata": {},
     "output_type": "display_data"
    }
   ],
   "source": [
    "# Boxplot von Fare nach Pclass und Überlebenschancen\n",
    "sns.boxplot(x='pclass', y='fare', hue='survived', data=df)\n",
    "plt.title('Fahrpreis nach Passagierklasse und Überlebenschancen')\n",
    "plt.show()\n"
   ]
  },
  {
   "cell_type": "code",
   "execution_count": 47,
   "id": "dcefeb91-70fe-40af-9156-b486644710f0",
   "metadata": {},
   "outputs": [
    {
     "data": {
      "image/png": "[encoded data removed]",
      "text/plain": [
       "<Figure size 640x480 with 1 Axes>"
      ]
     },
     "metadata": {},
     "output_type": "display_data"
    }
   ],
   "source": [
    "# Fahrpreise in Kategorien unterteilen\n",
    "df['fare_bin'] = pd.qcut(df['fare'], 4, labels=['Low', 'Medium', 'High', 'Very High'])\n",
    "\n",
    "# Überlebenschancen nach Fare-Kategorien\n",
    "sns.countplot(x='fare_bin', hue='survived', data=df)\n",
    "plt.title('Überlebenschancen nach Fahrpreis-Kategorien')\n",
    "plt.show()\n"
   ]
  },
  {
   "cell_type": "code",
   "execution_count": 48,
   "id": "3186583f-f6c1-42ec-bbcb-e14a70a1fe33",
   "metadata": {},
   "outputs": [],
   "source": [
    "from sklearn.model_selection import train_test_split\n",
    "\n",
    "# Features und Zielvariable (Survived)\n",
    "X = df.drop(columns=['survived'])  # Unabhängige Variablen\n",
    "y = df['survived']  # Zielvariable\n",
    "\n",
    "# Aufteilung der Daten\n",
    "X_train, X_test, y_train, y_test = train_test_split(X, y, test_size=0.2, random_state=42)\n"
   ]
  },
  {
   "cell_type": "code",
   "execution_count": 49,
   "id": "4f989ae3-2bd5-4196-8bc2-90a8013463ab",
   "metadata": {},
   "outputs": [],
   "source": [
    "from sklearn.preprocessing import StandardScaler\n",
    "\n",
    "# Initialisierung des Scalers\n",
    "scaler = StandardScaler()\n",
    "\n",
    "# Skalieren der numerischen Features in den Trainings- und Testdaten (age und fare)\n",
    "X_train[['age', 'fare']] = scaler.fit_transform(X_train[['age', 'fare']])\n",
    "X_test[['age', 'fare']] = scaler.transform(X_test[['age', 'fare']])\n"
   ]
  },
  {
   "cell_type": "code",
   "execution_count": 50,
   "id": "ddf1255c-99d9-4910-b6b7-7c93e76623af",
   "metadata": {},
   "outputs": [
    {
     "name": "stdout",
     "output_type": "stream",
     "text": [
      "Index(['pclass', 'name', 'age', 'sibsp', 'parch', 'ticket', 'fare', 'cabin',\n",
      "       'boat', 'deck', 'sex_male', 'embarked_Q', 'embarked_S', 'family_size',\n",
      "       'is_alone', 'log_fare', 'fare_bin'],\n",
      "      dtype='object')\n"
     ]
    }
   ],
   "source": [
    "# Zeige alle Spaltennamen im DataFrame an\n",
    "print(X.columns)"
   ]
  },
  {
   "cell_type": "code",
   "execution_count": 51,
   "id": "6080c430-a016-4ca4-8d3b-58ab045d9b74",
   "metadata": {},
   "outputs": [],
   "source": [
    "# Entferne die nicht numerischen Spalten aus dem DataFrame\n",
    "X = X.drop(columns=['name', 'ticket', 'cabin'], errors='ignore')"
   ]
  },
  {
   "cell_type": "code",
   "execution_count": 52,
   "id": "4873ea48-ba0f-4ff1-903c-457a0fbc1db3",
   "metadata": {},
   "outputs": [
    {
     "name": "stdout",
     "output_type": "stream",
     "text": [
      "Index(['pclass', 'age', 'sibsp', 'parch', 'fare', 'boat', 'deck', 'sex_male',\n",
      "       'embarked_Q', 'embarked_S', 'family_size', 'is_alone', 'log_fare',\n",
      "       'fare_bin'],\n",
      "      dtype='object')\n"
     ]
    }
   ],
   "source": [
    "print(X.columns)"
   ]
  },
  {
   "cell_type": "code",
   "execution_count": 53,
   "id": "79a27e44-df03-487b-9aa2-6df75a1b1dbb",
   "metadata": {},
   "outputs": [
    {
     "name": "stdout",
     "output_type": "stream",
     "text": [
      "pclass         category\n",
      "age             float64\n",
      "sibsp           float64\n",
      "parch           float64\n",
      "fare            float64\n",
      "boat           category\n",
      "deck           category\n",
      "sex_male           bool\n",
      "embarked_Q         bool\n",
      "embarked_S         bool\n",
      "family_size     float64\n",
      "is_alone          int64\n",
      "log_fare        float64\n",
      "fare_bin       category\n",
      "dtype: object\n"
     ]
    }
   ],
   "source": [
    "print(X.dtypes)"
   ]
  },
  {
   "cell_type": "code",
   "execution_count": 54,
   "id": "539f2a57-dec6-451c-8a0d-f081231b0957",
   "metadata": {},
   "outputs": [],
   "source": [
    "# Kategorische Variablen in Dummy-Variablen umwandeln\n",
    "X = pd.get_dummies(X, columns=['pclass', 'boat', 'deck', 'fare_bin'], drop_first=True)\n"
   ]
  },
  {
   "cell_type": "code",
   "execution_count": 55,
   "id": "caa478b7-b169-4591-bb97-7b9dc3c2a283",
   "metadata": {},
   "outputs": [
    {
     "name": "stdout",
     "output_type": "stream",
     "text": [
      "age                   float64\n",
      "sibsp                 float64\n",
      "parch                 float64\n",
      "fare                  float64\n",
      "sex_male                 bool\n",
      "embarked_Q               bool\n",
      "embarked_S               bool\n",
      "family_size           float64\n",
      "is_alone                int64\n",
      "log_fare              float64\n",
      "pclass_2.0               bool\n",
      "pclass_3.0               bool\n",
      "boat_10                  bool\n",
      "boat_11                  bool\n",
      "boat_12                  bool\n",
      "boat_13                  bool\n",
      "boat_13 15               bool\n",
      "boat_13 15 B             bool\n",
      "boat_14                  bool\n",
      "boat_15                  bool\n",
      "boat_15 16               bool\n",
      "boat_16                  bool\n",
      "boat_2                   bool\n",
      "boat_3                   bool\n",
      "boat_4                   bool\n",
      "boat_5                   bool\n",
      "boat_5 7                 bool\n",
      "boat_5 9                 bool\n",
      "boat_6                   bool\n",
      "boat_7                   bool\n",
      "boat_8                   bool\n",
      "boat_8 10                bool\n",
      "boat_9                   bool\n",
      "boat_A                   bool\n",
      "boat_B                   bool\n",
      "boat_C                   bool\n",
      "boat_C D                 bool\n",
      "boat_D                   bool\n",
      "boat_No Boat             bool\n",
      "deck_B                   bool\n",
      "deck_C                   bool\n",
      "deck_D                   bool\n",
      "deck_E                   bool\n",
      "deck_F                   bool\n",
      "deck_G                   bool\n",
      "deck_T                   bool\n",
      "deck_Unknown             bool\n",
      "fare_bin_Medium          bool\n",
      "fare_bin_High            bool\n",
      "fare_bin_Very High       bool\n",
      "dtype: object\n"
     ]
    }
   ],
   "source": [
    "print(X.dtypes)"
   ]
  },
  {
   "cell_type": "code",
   "execution_count": 56,
   "id": "2013b669-6f38-4c66-9c81-fe5ec159e64c",
   "metadata": {},
   "outputs": [
    {
     "name": "stdout",
     "output_type": "stream",
     "text": [
      "pclass         category\n",
      "name             object\n",
      "age             float64\n",
      "sibsp           float64\n",
      "parch           float64\n",
      "ticket           object\n",
      "fare            float64\n",
      "cabin          category\n",
      "boat           category\n",
      "deck           category\n",
      "sex_male           bool\n",
      "embarked_Q         bool\n",
      "embarked_S         bool\n",
      "family_size     float64\n",
      "is_alone          int64\n",
      "log_fare        float64\n",
      "fare_bin       category\n",
      "dtype: object\n"
     ]
    }
   ],
   "source": [
    "# Überprüfe, ob es noch nicht-numerische Spalten gibt\n",
    "print(X_train.dtypes)\n"
   ]
  },
  {
   "cell_type": "code",
   "execution_count": 57,
   "id": "fe94ec5a-e0dc-4b14-82c3-b9e19e2516c7",
   "metadata": {},
   "outputs": [
    {
     "name": "stdout",
     "output_type": "stream",
     "text": [
      "['Mamee, Mr. Hanna' 'Astor, Col. John Jacob' 'Harrington, Mr. Charles H'\n",
      " ... 'Wiseman, Mr. Phillippe' 'Hellstrom, Miss. Hilda Maria'\n",
      " 'Petroff, Mr. Pastcho (\"Pentcho\")']\n",
      "['2677' 'PC 17757' '113796' '220367' '28664' 'SOTON/O.Q. 3101263' '29750'\n",
      " '248738' '349211' 'C.A. 31921' 'PC 17569' '244252' 'PC 17754'\n",
      " 'SOTON/OQ 392083' '2543' '2664' 'SC/A.3 2861' '29106' '680' '349218'\n",
      " '315092' '358585' 'STON/O 2. 3101273' '244367' '363291' '2651'\n",
      " 'SC/Paris 2123' 'PC 17761' '113510' '4136' '248727' '113038' '248734'\n",
      " '394140' '365226' '113503' '349226' '36866' '250649' 'W./C. 6608'\n",
      " 'C.A. 34651' '233866' '29107' 'SOTON/O.Q. 3101312' 'C 4001' '349248'\n",
      " '2223' '2657' 'A/5. 3336' '113028' '110413' 'STON/O 2. 3101293' '347088'\n",
      " '17421' '335097' 'SC/PARIS 2131' '226593' '349246' '113781' 'A/5. 13032'\n",
      " 'C.A. 2315' '28228' '347068' '330972' '312992' '19996' '36963' '347077'\n",
      " '363294' '364849' '17764' '226875' '368402' '17770' '234818' '347060'\n",
      " '367226' '370376' '2623' 'S.O.P. 1166' 'S.O.C. 14879'\n",
      " 'SOTON/O.Q. 3101314' 'C.A. 31026' '364859' '347085' '347071' '2694'\n",
      " '4133' '2628' '244346' '220845' '19947' '349257' '112901' 'C.A. 37671'\n",
      " '370365' '113044' '2676' 'PC 17475' '347075' '350054' '14311'\n",
      " 'SOTON/O.Q. 3101307' 'C.A./SOTON 34068' '244310' 'PC 17582'\n",
      " 'STON/O 2. 3101289' 'PC 17759' '384461' '248747' 'A.5. 3236' '248659'\n",
      " '2625' '12749' '243847' '16966' '248744' '28220' 'C.A. 34050'\n",
      " 'SOTON/O.Q. 3101310' 'C.A. 33111' '2678' '374746' 'SOTON/OQ 392086'\n",
      " '1601' '244358' '349230' '315153' '7540' 'A/4 48871' '228414' '364848'\n",
      " '28206' '250646' '2658' '315098' 'P/PP 3381' '29103' 'CA. 2343' '383123'\n",
      " 'S.W./PP 752' 'PC 17591' '113784' 'PC 17585' '350026' 'W./C. 6607'\n",
      " '113780' '315096' '31027' '2661' '312993' '2659' '19950' '343275'\n",
      " '315082' '370129' '350034' 'F.C.C. 13528' '371362' 'PC 17597' '363611'\n",
      " '113807' '345763' '19952' 'PC 17485' '250653' '349245' '348125' '350417'\n",
      " 'A.5. 18509' '250647' '36209' '244270' '315037' '364846' 'PC 17758'\n",
      " '345778' '347082' 'CA 2144' '230433' 'PC 17608' 'A/5 1478' '110152'\n",
      " 'C.A. 31029' 'PC 17596' 'PC 17477' '7545' '36967' '4135' '347062' '2674'\n",
      " '323951' '32302' '382652' '35851' '3411' 'C.A. 6212' '349208'\n",
      " 'SC/AH 3085' '2622' '376564' '330935' '28424' '24160' '330968' '13502'\n",
      " '2003' '2668' '315152' 'SOTON/OQ 392076' '11752' '239853' '3101278'\n",
      " '11967' '8475' '4134' '349232' '2660' 'LP 1588' '345773'\n",
      " 'STON/O2. 3101283' '349237' '234686' '345780' '13236' '13905' 'PC 17476'\n",
      " 'PC 17483' '347065' '113760' '35273' '17765' '330844' '13508' 'C.A. 2673'\n",
      " '113050' '315151' '244278' '347743' 'STON/O2. 3101282'\n",
      " 'SOTON/O.Q. 3101311' 'STON/O 2. 3101291' '220844' '19877' '17474'\n",
      " '370372' '11778' 'C.A. 29395' '347091' 'PC 17755' '113051' '347073'\n",
      " '364858' '13509' '349234' 'SC/PARIS 2133' '349250' '349255'\n",
      " 'S.O./P.P. 752' 'CA 31352' 'PC 17612' '112053' '347080' '113791' '2624'\n",
      " 'C.A. 17248' '386525' 'SC 1748' '19943' '36928' '350408' '11668' '2908'\n",
      " 'PC 17558' '370373' '2641' 'STON/O 2. 3101274' '349254' '3101296'\n",
      " '110813' 'SOTON/OQ 392082' 'PC 17760' '345781' 'STON/O2. 3101279' '35281'\n",
      " '349256' '350050' '33638' '345777' '113783' '350053' '250643' '29104'\n",
      " '347469' '2693' 'S.O./P.P. 751' 'PC 17756' 'PC 17599' '334912'\n",
      " 'WE/P 5735' '359309' 'STON/O2. 3101270' '330963' '2627' '2926' '342684'\n",
      " '2680' '347083' '36947' '392091' 'LINE' '343276' 'W.E.P. 5734' '2631'\n",
      " 'PC 17590' '113043' 'PC 17572' 'STON/OQ. 369943' '248740' '113778'\n",
      " '349249' '4138' 'PC 17609' '26707' '111163' 'SC/PARIS 2159'\n",
      " 'SC/PARIS 2167' '2653' 'C.A. 33112' 'STON/O 2. 3101280' '11765'\n",
      " 'SW/PP 751' '26360' '11753' 'A/5. 851' '365235' '2647' '112050' '2654'\n",
      " '36568' '29108' 'C 17369' 'A/S 2816' '2650' '113794' '364506'\n",
      " 'W./C. 14263' '323592' '368364' 'AQ/4 3130' 'SC 14888'\n",
      " 'STON/O 2. 3101285' '367228' '347063' 'S.O./P.P. 2' '3101298' '113776'\n",
      " '349223' '11770' '36973' '35852' '2648' 'SOTON/O.Q. 3101262' '315084'\n",
      " '17453' '3101295' '239854' '364516' '250655' '2626' 'C.A. 24580'\n",
      " 'SOTON/O.Q. 3101308' '248733' '237668' '350035' '240261' '14312' '347742'\n",
      " '382650' '112058' '237393' 'F.C. 12750' '349247' '239865' '113505'\n",
      " '112378' '2675' '350406' '350405' '250644' '347072' '239059' '363272'\n",
      " '230136' '12233' '111426' '110469' 'C.A. 49867' '368783' '349236' '2679'\n",
      " '11771' 'SC/PARIS 2166' 'SOTON/O2 3101272' '7935' 'S.C./PARIS 2079'\n",
      " '330909' '2666' 'PC 17607' '113789' 'PC 17593' '330931' '7267' '112377'\n",
      " 'PC 17610' '365222' 'SOTON/O.Q. 392087' 'F.C.C. 13531' '349238'\n",
      " 'SC/Paris 2163' '233734' '368702' '370377' '7266' 'SC/AH 29037' '364498'\n",
      " '364500' 'A/5 3540' '24065' '113788' '11767' '29105' '28403' '11813'\n",
      " '65304' '330971' '349909' '244373' '315083' '113514' '330932' '315087'\n",
      " '237789' '349251' 'S.P. 3464' '1222' '2663' 'W./C. 6609' '2700' '347078'\n",
      " '350045' '315090' 'SO/C 14885' '231919' '349224' '3101267' '349229'\n",
      " '248726' '110465' 'A/4 45380' '371110' '345364' '373450' '28133'\n",
      " 'SOTON/O2 3101284' '349213' '349212' '364511' 'A/4 48873' '367230'\n",
      " '349239' '11769' 'C.A. 30769' '7534' '13695' '392096' '329944' '230434'\n",
      " '349205' '347090' '364512' 'A/5. 3337' '374887' '345767' '111361'\n",
      " '113798' '376566' '347054' 'PC 17318' '244368' '231945' 'A/5 21175'\n",
      " '341826' '349253' '349220' '112052' '2682' '11755' '3101277' '345572'\n",
      " 'W./C. 14260' '111369' '236852' '350407' '2699' 'SOTON/O.Q. 3101315'\n",
      " 'W/C 14208' '392092' 'PC 17604' '365237' 'A/4. 39886' '347067' 'PC 17594'\n",
      " '315091' 'F.C.C. 13529' '5727' '2629' '2670' '2690' 'C.A. 33595' '242963'\n",
      " '2689' '113501' '21228' '14313' '237442' '330910' '230080' '349242'\n",
      " 'STON/O 2. 3101286' '345501' '113803' '2695' '250651' '7598' '348122'\n",
      " '347061' 'PC 17611' 'A./5. 3338' 'PP 4348' 'PC 17531' '349911' '113056'\n",
      " 'SOTON/O.Q. 3101306' '9232' '347076' 'STON/O2. 3101271' '2686' '11774'\n",
      " '350046' '34218' '113059' '13213' '342826' '250650' '315085' '347069'\n",
      " '330920' '248698' '345768' '113795' '13567' 'A/4. 20589' '28221' '315089'\n",
      " '2691' '383121' '2683' 'A/5 3536' '364851' '376563' '27849' '219533'\n",
      " '350047' 'S.O./P.P. 251' 'SC/PARIS 2149' '237736' '2673' '13050' '334914'\n",
      " '349204' '211536' '229236' '9234' '335677' 'C 7075' 'SC/PARIS 2168'\n",
      " '345774' '367655' 'CA. 2314' '113054' '17464' 'PC 17603' '368573' '2662'\n",
      " '343271' '347464' '349912' '330924' '3410' '237735' '347471' '233639'\n",
      " '367227' '349235' 'SOTON/OQ 3101316' '113801' '2655' '350416' 'C 7076'\n",
      " '17465' '237216' '347087' '349252' '218629' '17463' '366713' '349207'\n",
      " '370371' 'SOTON/OQ 392089' '350036' '345765' '111427' '349203' '2667'\n",
      " '223596' 'A/5 21174' '2688' 'A/5 21171' '2669' '315095' '349244'\n",
      " 'PP 9549' '368323' '349201' '350060' '16988' '345779' '240276' '342712'\n",
      " '236171' '19928' '350033' '368703' '350410' '237798' '19988'\n",
      " 'SOTON/O.Q. 3101305' '7538' '3101281' '211535' '2656' '13507' '112059'\n",
      " 'C.A. 18723' '315154' 'STON/O 2. 3101269' '28004' '367229' 'S.O./P.P. 3'\n",
      " '236854' 'STON/O 2. 3101288' 'A/4 31416' 'SC/AH Basle 541' 'PC 17592'\n",
      " '7546' 'SC/A4 23568' 'C.A. 42795' '113773' '350048' 'SC/PARIS 2148'\n",
      " '13568' '3101276' '2684' '370375' '113509' '315093' '349216' '2620'\n",
      " '362316' '370374' '392095' '349202' '367232' '2696' '343095' '250652'\n",
      " '28666' 'SC/PARIS 2147' '347470' '349219' 'C.A. 29566' '349221'\n",
      " 'C.A. 29178' '349228' '382649' '347467' '382653' 'A. 2. 39186' '349225'\n",
      " '374910' '330877' '3474' '370369' '54636' 'C.A. 15185' '248723' '371060'\n",
      " '3101297' '36865' '349241' '2652' '112379' '349233' '113786'\n",
      " 'W./C. 14266' '28134' 'C.A. 24579' '2671' '347079' 'SOTON/O.Q. 3101309'\n",
      " 'S.C./A.4. 23567' '28213' '113806' '27042' '343120' '2697' '237249' '693'\n",
      " 'A/5 3902' '330959' '349240' '349210' '359306' 'SCO/W 1585' '14973'\n",
      " '2649' 'PC 17473' '349231' '29751' 'A./5. 2152' 'SOTON/O.Q. 392078'\n",
      " 'F.C.C. 13540' '330980' 'A4. 54510' '110489' 'A/5. 10482' '3101266'\n",
      " '237734' 'PC 17613' '244360' 'PC 17600' '65303' '11751' '2692' '21440'\n",
      " '345770' '31418' '345764' '3460' 'STON/O 2. 3101292' 'A/5 21173' '315086'\n",
      " '4579' '237565' '348124' '28425' '330958' '348121' '342441' '113804'\n",
      " 'C.A. 31030' '2621' 'F.C.C. 13534' '349206' '349227' 'A/4. 34244' '7548'\n",
      " '349215']\n"
     ]
    }
   ],
   "source": [
    "# Problematische Zeilen finden, die nicht in numerische Werte umgewandelt werden können\n",
    "for col in X_train.columns:\n",
    "    if X_train[col].dtype == 'object':\n",
    "        print(X_train[col].unique())\n"
   ]
  },
  {
   "cell_type": "code",
   "execution_count": 58,
   "id": "2e867fa2-302c-4ca4-a166-557156adc300",
   "metadata": {},
   "outputs": [
    {
     "name": "stdout",
     "output_type": "stream",
     "text": [
      "age                   float64\n",
      "sibsp                 float64\n",
      "parch                 float64\n",
      "fare                  float64\n",
      "sex_male                 bool\n",
      "embarked_Q               bool\n",
      "embarked_S               bool\n",
      "family_size           float64\n",
      "is_alone                int64\n",
      "log_fare              float64\n",
      "pclass_2.0               bool\n",
      "pclass_3.0               bool\n",
      "boat_10                  bool\n",
      "boat_11                  bool\n",
      "boat_12                  bool\n",
      "boat_13                  bool\n",
      "boat_13 15               bool\n",
      "boat_13 15 B             bool\n",
      "boat_14                  bool\n",
      "boat_15                  bool\n",
      "boat_15 16               bool\n",
      "boat_16                  bool\n",
      "boat_2                   bool\n",
      "boat_3                   bool\n",
      "boat_4                   bool\n",
      "boat_5                   bool\n",
      "boat_5 7                 bool\n",
      "boat_5 9                 bool\n",
      "boat_6                   bool\n",
      "boat_7                   bool\n",
      "boat_8                   bool\n",
      "boat_8 10                bool\n",
      "boat_9                   bool\n",
      "boat_A                   bool\n",
      "boat_B                   bool\n",
      "boat_C                   bool\n",
      "boat_C D                 bool\n",
      "boat_D                   bool\n",
      "boat_No Boat             bool\n",
      "deck_B                   bool\n",
      "deck_C                   bool\n",
      "deck_D                   bool\n",
      "deck_E                   bool\n",
      "deck_F                   bool\n",
      "deck_G                   bool\n",
      "deck_T                   bool\n",
      "deck_Unknown             bool\n",
      "fare_bin_Medium          bool\n",
      "fare_bin_High            bool\n",
      "fare_bin_Very High       bool\n",
      "dtype: object\n"
     ]
    }
   ],
   "source": [
    "print(X.dtypes)"
   ]
  },
  {
   "cell_type": "code",
   "execution_count": 59,
   "id": "5b3cd2dd-2555-4767-8623-e0581497ca37",
   "metadata": {},
   "outputs": [
    {
     "name": "stdout",
     "output_type": "stream",
     "text": [
      "pclass         category\n",
      "name             object\n",
      "age             float64\n",
      "sibsp           float64\n",
      "parch           float64\n",
      "ticket           object\n",
      "fare            float64\n",
      "cabin          category\n",
      "boat           category\n",
      "deck           category\n",
      "sex_male           bool\n",
      "embarked_Q         bool\n",
      "embarked_S         bool\n",
      "family_size     float64\n",
      "is_alone          int64\n",
      "log_fare        float64\n",
      "fare_bin       category\n",
      "dtype: object\n",
      "pclass         category\n",
      "name             object\n",
      "age             float64\n",
      "sibsp           float64\n",
      "parch           float64\n",
      "ticket           object\n",
      "fare            float64\n",
      "cabin          category\n",
      "boat           category\n",
      "deck           category\n",
      "sex_male           bool\n",
      "embarked_Q         bool\n",
      "embarked_S         bool\n",
      "family_size     float64\n",
      "is_alone          int64\n",
      "log_fare        float64\n",
      "fare_bin       category\n",
      "dtype: object\n"
     ]
    }
   ],
   "source": [
    "print(X_train.dtypes)\n",
    "print(X_test.dtypes)\n"
   ]
  },
  {
   "cell_type": "code",
   "execution_count": 60,
   "id": "1437c2a0-82a4-4a04-8115-f53a1dc776dd",
   "metadata": {},
   "outputs": [],
   "source": [
    "# Entferne nicht-numerische Spalten aus den Trainings- und Testdaten\n",
    "X_train = X_train.drop(columns=['name', 'ticket', 'cabin'], errors='ignore')\n",
    "X_test = X_test.drop(columns=['name', 'ticket', 'cabin'], errors='ignore')\n"
   ]
  },
  {
   "cell_type": "code",
   "execution_count": 61,
   "id": "9ecfda66-095d-475b-b676-4a7b932afdad",
   "metadata": {},
   "outputs": [
    {
     "name": "stdout",
     "output_type": "stream",
     "text": [
      "pclass         category\n",
      "age             float64\n",
      "sibsp           float64\n",
      "parch           float64\n",
      "fare            float64\n",
      "boat           category\n",
      "deck           category\n",
      "sex_male           bool\n",
      "embarked_Q         bool\n",
      "embarked_S         bool\n",
      "family_size     float64\n",
      "is_alone          int64\n",
      "log_fare        float64\n",
      "fare_bin       category\n",
      "dtype: object\n",
      "pclass         category\n",
      "age             float64\n",
      "sibsp           float64\n",
      "parch           float64\n",
      "fare            float64\n",
      "boat           category\n",
      "deck           category\n",
      "sex_male           bool\n",
      "embarked_Q         bool\n",
      "embarked_S         bool\n",
      "family_size     float64\n",
      "is_alone          int64\n",
      "log_fare        float64\n",
      "fare_bin       category\n",
      "dtype: object\n"
     ]
    }
   ],
   "source": [
    "print(X_train.dtypes)\n",
    "print(X_test.dtypes)"
   ]
  },
  {
   "cell_type": "code",
   "execution_count": 62,
   "id": "02aec3d6-4630-4961-805e-b4fe3144eb54",
   "metadata": {},
   "outputs": [],
   "source": [
    "# Kategorische Spalten in Dummy-Variablen umwandeln\n",
    "X_train = pd.get_dummies(X_train, columns=['pclass', 'boat', 'deck', 'fare_bin'], drop_first=True)\n",
    "X_test = pd.get_dummies(X_test, columns=['pclass', 'boat', 'deck', 'fare_bin'], drop_first=True)\n"
   ]
  },
  {
   "cell_type": "code",
   "execution_count": 63,
   "id": "4f7aea1a-39ae-4e43-ad66-8a957d39565c",
   "metadata": {},
   "outputs": [
    {
     "name": "stdout",
     "output_type": "stream",
     "text": [
      "age                   float64\n",
      "sibsp                 float64\n",
      "parch                 float64\n",
      "fare                  float64\n",
      "sex_male                 bool\n",
      "embarked_Q               bool\n",
      "embarked_S               bool\n",
      "family_size           float64\n",
      "is_alone                int64\n",
      "log_fare              float64\n",
      "pclass_2.0               bool\n",
      "pclass_3.0               bool\n",
      "boat_10                  bool\n",
      "boat_11                  bool\n",
      "boat_12                  bool\n",
      "boat_13                  bool\n",
      "boat_13 15               bool\n",
      "boat_13 15 B             bool\n",
      "boat_14                  bool\n",
      "boat_15                  bool\n",
      "boat_15 16               bool\n",
      "boat_16                  bool\n",
      "boat_2                   bool\n",
      "boat_3                   bool\n",
      "boat_4                   bool\n",
      "boat_5                   bool\n",
      "boat_5 7                 bool\n",
      "boat_5 9                 bool\n",
      "boat_6                   bool\n",
      "boat_7                   bool\n",
      "boat_8                   bool\n",
      "boat_8 10                bool\n",
      "boat_9                   bool\n",
      "boat_A                   bool\n",
      "boat_B                   bool\n",
      "boat_C                   bool\n",
      "boat_C D                 bool\n",
      "boat_D                   bool\n",
      "boat_No Boat             bool\n",
      "deck_B                   bool\n",
      "deck_C                   bool\n",
      "deck_D                   bool\n",
      "deck_E                   bool\n",
      "deck_F                   bool\n",
      "deck_G                   bool\n",
      "deck_T                   bool\n",
      "deck_Unknown             bool\n",
      "fare_bin_Medium          bool\n",
      "fare_bin_High            bool\n",
      "fare_bin_Very High       bool\n",
      "dtype: object\n",
      "age                   float64\n",
      "sibsp                 float64\n",
      "parch                 float64\n",
      "fare                  float64\n",
      "sex_male                 bool\n",
      "embarked_Q               bool\n",
      "embarked_S               bool\n",
      "family_size           float64\n",
      "is_alone                int64\n",
      "log_fare              float64\n",
      "pclass_2.0               bool\n",
      "pclass_3.0               bool\n",
      "boat_10                  bool\n",
      "boat_11                  bool\n",
      "boat_12                  bool\n",
      "boat_13                  bool\n",
      "boat_13 15               bool\n",
      "boat_13 15 B             bool\n",
      "boat_14                  bool\n",
      "boat_15                  bool\n",
      "boat_15 16               bool\n",
      "boat_16                  bool\n",
      "boat_2                   bool\n",
      "boat_3                   bool\n",
      "boat_4                   bool\n",
      "boat_5                   bool\n",
      "boat_5 7                 bool\n",
      "boat_5 9                 bool\n",
      "boat_6                   bool\n",
      "boat_7                   bool\n",
      "boat_8                   bool\n",
      "boat_8 10                bool\n",
      "boat_9                   bool\n",
      "boat_A                   bool\n",
      "boat_B                   bool\n",
      "boat_C                   bool\n",
      "boat_C D                 bool\n",
      "boat_D                   bool\n",
      "boat_No Boat             bool\n",
      "deck_B                   bool\n",
      "deck_C                   bool\n",
      "deck_D                   bool\n",
      "deck_E                   bool\n",
      "deck_F                   bool\n",
      "deck_G                   bool\n",
      "deck_T                   bool\n",
      "deck_Unknown             bool\n",
      "fare_bin_Medium          bool\n",
      "fare_bin_High            bool\n",
      "fare_bin_Very High       bool\n",
      "dtype: object\n"
     ]
    }
   ],
   "source": [
    "print(X_train.dtypes)\n",
    "print(X_test.dtypes)"
   ]
  },
  {
   "cell_type": "code",
   "execution_count": 64,
   "id": "59221724-26d2-4ffe-96ea-ad1dda3159e8",
   "metadata": {},
   "outputs": [
    {
     "name": "stdout",
     "output_type": "stream",
     "text": [
      "Accuracy: 0.9732824427480916\n",
      "[[152   2]\n",
      " [  5 103]]\n",
      "              precision    recall  f1-score   support\n",
      "\n",
      "         0.0       0.97      0.99      0.98       154\n",
      "         1.0       0.98      0.95      0.97       108\n",
      "\n",
      "    accuracy                           0.97       262\n",
      "   macro avg       0.97      0.97      0.97       262\n",
      "weighted avg       0.97      0.97      0.97       262\n",
      "\n"
     ]
    }
   ],
   "source": [
    "from sklearn.linear_model import LogisticRegression\n",
    "from sklearn.metrics import accuracy_score, confusion_matrix, classification_report\n",
    "\n",
    "# Modell initialisieren und auf den Trainingsdaten trainieren\n",
    "model = LogisticRegression(max_iter=200)  # max_iter auf 200 setzen, falls das Modell mehr Iterationen benötigt\n",
    "model.fit(X_train, y_train)  # Trainiere das Modell\n",
    "\n",
    "# Vorhersagen auf dem Testdatensatz\n",
    "y_pred = model.predict(X_test)\n",
    "\n",
    "# Modellbewertung\n",
    "print(f'Accuracy: {accuracy_score(y_test, y_pred)}')  # Genauigkeit des Modells\n",
    "print(confusion_matrix(y_test, y_pred))  # Confusion Matrix zeigt die wahre und vorhergesagte Klassifizierung\n",
    "print(classification_report(y_test, y_pred))  # Detaillierter Bericht mit Precision, Recall und F1-Score\n"
   ]
  },
  {
   "cell_type": "code",
   "execution_count": 65,
   "id": "d5c724c6-734e-44e1-a17f-b81e72cfc766",
   "metadata": {},
   "outputs": [
    {
     "name": "stdout",
     "output_type": "stream",
     "text": [
      "Accuracy: 0.9656488549618321\n",
      "[[149   5]\n",
      " [  4 104]]\n",
      "              precision    recall  f1-score   support\n",
      "\n",
      "         0.0       0.97      0.97      0.97       154\n",
      "         1.0       0.95      0.96      0.96       108\n",
      "\n",
      "    accuracy                           0.97       262\n",
      "   macro avg       0.96      0.97      0.96       262\n",
      "weighted avg       0.97      0.97      0.97       262\n",
      "\n"
     ]
    }
   ],
   "source": [
    "from sklearn.ensemble import RandomForestClassifier\n",
    "\n",
    "rf_model = RandomForestClassifier(n_estimators=100, random_state=42)\n",
    "rf_model.fit(X_train, y_train)\n",
    "y_rf_pred = rf_model.predict(X_test)\n",
    "\n",
    "print(f'Accuracy: {accuracy_score(y_test, y_rf_pred)}')\n",
    "print(confusion_matrix(y_test, y_rf_pred))\n",
    "print(classification_report(y_test, y_rf_pred))\n"
   ]
  },
  {
   "cell_type": "code",
   "execution_count": 66,
   "id": "6de07477-e5a3-45d6-81df-5bc46c8a2e0e",
   "metadata": {},
   "outputs": [
    {
     "data": {
      "image/png": "[encoded data removed]",
      "text/plain": [
       "<Figure size 1400x700 with 2 Axes>"
      ]
     },
     "metadata": {},
     "output_type": "display_data"
    },
    {
     "name": "stdout",
     "output_type": "stream",
     "text": [
      "Accuracy: 0.7748091603053435\n",
      "Classification Report:\n",
      "               precision    recall  f1-score   support\n",
      "\n",
      "         0.0       0.81      0.81      0.81       154\n",
      "         1.0       0.72      0.73      0.73       108\n",
      "\n",
      "    accuracy                           0.77       262\n",
      "   macro avg       0.77      0.77      0.77       262\n",
      "weighted avg       0.78      0.77      0.77       262\n",
      "\n"
     ]
    }
   ],
   "source": [
    "# Explorative Datenanalyse (EDA)\n",
    "def explorative_data_analysis():\n",
    "    plt.figure(figsize=(14, 7))\n",
    "\n",
    "    # Visualisierung der Überlebensrate nach Geschlecht\n",
    "    plt.subplot(1, 2, 1)\n",
    "    sns.countplot(x='sex_male', hue='survived', data=df)\n",
    "    plt.title('Überlebensrate nach Geschlecht')\n",
    "\n",
    "    # Visualisierung der Überlebensrate nach Klasse\n",
    "    plt.subplot(1, 2, 2)\n",
    "    sns.countplot(x='pclass', hue='survived', data=df)\n",
    "    plt.title('Überlebensrate nach Klasse')\n",
    "\n",
    "    plt.tight_layout()\n",
    "    plt.show()\n",
    "\n",
    "# Feature-Engineering: Auswahl der Features für das Modell\n",
    "features = ['pclass', 'age', 'sibsp', 'parch', 'fare', 'sex_male', 'embarked_Q', 'embarked_S']\n",
    "X = df[features]\n",
    "y = df['survived']\n",
    "\n",
    "# Split in Trainings- und Testdaten\n",
    "X_train, X_test, y_train, y_test = train_test_split(X, y, test_size=0.2, random_state=42)\n",
    "\n",
    "# Modellierung: Random Forest\n",
    "model = RandomForestClassifier(n_estimators=100, random_state=42)\n",
    "model.fit(X_train, y_train)\n",
    "y_pred = model.predict(X_test)\n",
    "\n",
    "# Evaluation: Genauigkeit und Bericht\n",
    "accuracy = accuracy_score(y_test, y_pred)\n",
    "classification_rep = classification_report(y_test, y_pred)\n",
    "\n",
    "# Visualisierungen anzeigen und Evaluierung ausgeben\n",
    "explorative_data_analysis()\n",
    "\n",
    "print(\"Accuracy:\", accuracy)\n",
    "print(\"Classification Report:\\n\", classification_rep)\n"
   ]
  },
  {
   "cell_type": "code",
   "execution_count": null,
   "id": "fe41904d-0560-40a3-9a77-a7ae9ff38f94",
   "metadata": {},
   "outputs": [],
   "source": []
  }
 ],
 "metadata": {
  "kernelspec": {
   "display_name": "Python 3 (ipykernel)",
   "language": "python",
   "name": "python3"
  },
  "language_info": {
   "codemirror_mode": {
    "name": "ipython",
    "version": 3
   },
   "file_extension": ".py",
   "mimetype": "text/x-python",
   "name": "python",
   "nbconvert_exporter": "python",
   "pygments_lexer": "ipython3",
   "version": "3.12.3"
  }
 },
 "nbformat": 4,
 "nbformat_minor": 5
}
